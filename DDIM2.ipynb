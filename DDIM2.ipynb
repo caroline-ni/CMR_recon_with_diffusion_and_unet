{
 "cells": [
  {
   "cell_type": "code",
   "execution_count": 31,
   "id": "047e5a09-b56a-4f7c-94cc-12363801ed32",
   "metadata": {},
   "outputs": [],
   "source": [
    "import torch\n",
    "import torch.nn as nn\n",
    "import torch.nn.functional as F\n",
    "\n",
    "def complex_fft2(x):\n",
    "    \"\"\"\n",
    "    x: [B, 2, H, W] => (real, imag) in channels.\n",
    "    Returns a tensor [B, 2, H, W] with the 2D FFT of x (orthonormal).\n",
    "    \"\"\"\n",
    "    # Separate real and imaginary parts\n",
    "    real = x[:, 0, :, :]\n",
    "    imag = x[:, 1, :, :]\n",
    "    x_complex = torch.complex(real, imag)  # [B, H, W], complex dtype\n",
    "\n",
    "    # Orthogonal FFT\n",
    "    X_complex = torch.fft.fft2(x_complex, norm='ortho')\n",
    "\n",
    "    # Re-split real & imag\n",
    "    X_real = X_complex.real\n",
    "    X_imag = X_complex.imag\n",
    "    return torch.stack([X_real, X_imag], dim=1)  # [B, 2, H, W]\n",
    "\n",
    "def complex_ifft2(X):\n",
    "    \"\"\"\n",
    "    X: [B, 2, H, W] => (real, imag) in channels.\n",
    "    Returns a tensor [B, 2, H, W] with the 2D IFFT of X (orthonormal).\n",
    "    \"\"\"\n",
    "    X_real = X[:, 0, :, :]\n",
    "    X_imag = X[:, 1, :, :]\n",
    "    X_complex = torch.complex(X_real, X_imag)\n",
    "\n",
    "    x_complex = torch.fft.ifft2(X_complex, norm='ortho')\n",
    "    return torch.stack([x_complex.real, x_complex.imag], dim=1)\n",
    "\n",
    "class DownBlock(nn.Module):\n",
    "    \"\"\"\n",
    "    A typical \"down\" block in a U-Net:\n",
    "      - 2x Conv(3x3) + ReLU\n",
    "      - Then downsample (e.g., MaxPool) unless it's the bottom-most layer\n",
    "    \"\"\"\n",
    "    def __init__(self, in_channels, out_channels):\n",
    "        super().__init__()\n",
    "        self.conv = nn.Sequential(\n",
    "            nn.Conv2d(in_channels, out_channels, kernel_size=3, padding=1),\n",
    "            nn.ReLU(inplace=True),\n",
    "            nn.Conv2d(out_channels, out_channels, kernel_size=3, padding=1),\n",
    "            nn.ReLU(inplace=True),\n",
    "        )\n",
    "        self.pool = nn.MaxPool2d(kernel_size=2, stride=2)\n",
    "\n",
    "    def forward(self, x):\n",
    "        x_conv = self.conv(x)\n",
    "        x_down = self.pool(x_conv)\n",
    "        return x_conv, x_down\n",
    "\n",
    "\n",
    "class UpBlock(nn.Module):\n",
    "    \"\"\"\n",
    "    An \"up\" block in a U-Net:\n",
    "      - Up-sample (could be ConvTranspose2d or bilinear + Conv)\n",
    "      - Skip connection from the encoder\n",
    "      - 2x Conv(3x3) + ReLU\n",
    "    \"\"\"\n",
    "    def __init__(self, in_channels, out_channels):\n",
    "        super().__init__()\n",
    "        # Transpose convolution for upsampling by factor of 2\n",
    "        self.up = nn.ConvTranspose2d(in_channels, out_channels, kernel_size=2, stride=2)\n",
    "\n",
    "        # After concatenating skip connection, do standard double-conv\n",
    "        self.conv = nn.Sequential(\n",
    "            nn.Conv2d(out_channels*2, out_channels, kernel_size=3, padding=1),\n",
    "            nn.ReLU(inplace=True),\n",
    "            nn.Conv2d(out_channels, out_channels, kernel_size=3, padding=1),\n",
    "            nn.ReLU(inplace=True)\n",
    "        )\n",
    "\n",
    "    def forward(self, x, skip):\n",
    "        x = self.up(x)\n",
    "        # Fix shape mismatch (if skip is bigger)\n",
    "        diffH = skip.size(2) - x.size(2)\n",
    "        diffW = skip.size(3) - x.size(3)\n",
    "        if diffH > 0 or diffW > 0:\n",
    "            # pad (left, right, top, bottom)\n",
    "            x = F.pad(x, (0, diffW, 0, diffH), mode='constant', value=0)\n",
    "        x = torch.cat([skip, x], dim=1)\n",
    "        x = self.conv(x)\n",
    "        return x\n",
    "\n",
    "\n",
    "class UNet(nn.Module):\n",
    "    \"\"\"\n",
    "    A more traditional U-Net structure.\n",
    "    For single-coil MRI + complex data, set in_channels=2, out_channels=2.\n",
    "    For multi-coil, you might want in_channels=2*num_coils, or feed coil maps differently.\n",
    "    \"\"\"\n",
    "    def __init__(self, \n",
    "                 in_channels=2, \n",
    "                 out_channels=2, \n",
    "                 features=[64, 128, 256, 512]):\n",
    "        super().__init__()\n",
    "        self.num_downs = len(features)\n",
    "        self.down_blocks = nn.ModuleList()\n",
    "        self.up_blocks = nn.ModuleList()\n",
    "\n",
    "        # Construct down blocks\n",
    "        prev_channels = in_channels\n",
    "        for f in features:\n",
    "            self.down_blocks.append(DownBlock(prev_channels, f))\n",
    "            prev_channels = f\n",
    "\n",
    "        # Construct up blocks (mirror)\n",
    "        reversed_feats = list(reversed(features))\n",
    "        for i in range(len(reversed_feats) - 1):\n",
    "            self.up_blocks.append(UpBlock(reversed_feats[i], reversed_feats[i+1]))\n",
    "\n",
    "        # Final 1x1 conv\n",
    "        self.final_conv = nn.Conv2d(features[0], out_channels, kernel_size=1)\n",
    "\n",
    "    def forward(self, x, t=None, cond=None):\n",
    "        \"\"\"\n",
    "        If cond is not None, we can concatenate it with x or inject in some other manner.\n",
    "        For example, if cond has shape [B, cond_channels, H, W], do x=cat([x,cond], dim=1).\n",
    "        \"\"\"\n",
    "        if cond is not None:\n",
    "            x = torch.cat([x, cond], dim=1)\n",
    "\n",
    "        # Encoder pathway\n",
    "        skip_connections = []\n",
    "        out = x\n",
    "        for down in self.down_blocks:\n",
    "            skip, out = down(out)\n",
    "            skip_connections.append(skip)\n",
    "\n",
    "        # The bottom of the U is skip_connections[-1] (no more pooling there).\n",
    "        # But we can rename out to reflect that it is the bottom-most activation\n",
    "        bottom = skip_connections[-1]\n",
    "\n",
    "        # Decoder pathway\n",
    "        # We'll pop from skip_connections from the end\n",
    "        skip_connections = skip_connections[:-1]  # remove the bottom-most\n",
    "        up_out = bottom\n",
    "        for i, up in enumerate(self.up_blocks):\n",
    "            skip_i = skip_connections[-(i+1)]  # take last skip first\n",
    "            up_out = up(up_out, skip_i)\n",
    "\n",
    "        # Final projection\n",
    "        return self.final_conv(up_out)\n",
    "        \n",
    "class DDIM(nn.Module):\n",
    "    def __init__(\n",
    "        self,\n",
    "        unet,\n",
    "        timesteps=1000,\n",
    "        beta_start=1e-4,\n",
    "        beta_end=0.02,\n",
    "        schedule=\"linear\",\n",
    "        device='cpu'\n",
    "    ):\n",
    "        super(DDIM, self).__init__()\n",
    "        self.unet = unet.to(device)\n",
    "        self.timesteps = timesteps\n",
    "        self.device = device\n",
    "\n",
    "        # Create betas (noise schedule)\n",
    "        if schedule == \"linear\":\n",
    "            self.betas = torch.linspace(beta_start, beta_end, timesteps).to(device)\n",
    "        elif schedule == \"cosine\":\n",
    "            self.betas = self._cosine_beta_schedule(timesteps).to(device)\n",
    "        else:\n",
    "            raise ValueError(f\"Unknown schedule: {schedule}\")\n",
    "\n",
    "        # Alphas and related quantities\n",
    "        self.alphas = 1.0 - self.betas\n",
    "        self.alphas_cumprod = torch.cumprod(self.alphas, dim=0)\n",
    "        self.alphas_cumprod_prev = torch.cat(\n",
    "            [torch.tensor([1.0], device=device), self.alphas_cumprod[:-1]]\n",
    "        )\n",
    "        self.sqrt_alphas_cumprod = torch.sqrt(self.alphas_cumprod)\n",
    "        self.sqrt_one_minus_alphas_cumprod = torch.sqrt(1.0 - self.alphas_cumprod)\n",
    "        self.posterior_variance = (\n",
    "            self.betas * (1.0 - self.alphas_cumprod_prev) / (1.0 - self.alphas_cumprod)\n",
    "        )\n",
    "\n",
    "    def _cosine_beta_schedule(self, timesteps, warmup_frac=0.02):\n",
    "        warmup_steps = int(timesteps * warmup_frac)\n",
    "        steps = torch.arange(timesteps + 1, dtype=torch.float64, device=self.device)\n",
    "        s = 0.008\n",
    "        alphas_cumprod_full = torch.cos(((steps / timesteps) + s) / (1 + s) * (torch.pi / 2))**2\n",
    "        alphas_cumprod_full = alphas_cumprod_full / alphas_cumprod_full[0]\n",
    "        if warmup_steps > 0:\n",
    "            alpha_end_warmup = alphas_cumprod_full[warmup_steps]\n",
    "            warmup_range = torch.linspace(1.0, alpha_end_warmup, warmup_steps + 1, device=self.device)\n",
    "            alphas_cumprod_full[: warmup_steps + 1] = warmup_range\n",
    "        betas = 1 - (alphas_cumprod_full[1:] / alphas_cumprod_full[:-1])\n",
    "        return betas.float()\n",
    "\n",
    "    def forward_diffusion(self, x_start, t):\n",
    "        \"\"\"\n",
    "        Diffuse x_start to x_t by adding noise.\n",
    "        x_start: [B, 2, H, W], real & imag\n",
    "        t: [B], time steps\n",
    "        \"\"\"\n",
    "        noise = torch.randn_like(x_start)\n",
    "        sqrt_alpha = self.sqrt_alphas_cumprod[t][:, None, None, None]\n",
    "        sqrt_one_minus_alpha = self.sqrt_one_minus_alphas_cumprod[t][:, None, None, None]\n",
    "        x_t = sqrt_alpha * x_start + sqrt_one_minus_alpha * noise\n",
    "        return x_t, noise\n",
    "\n",
    "    def forward(self, x, t, cond=None):\n",
    "        \"\"\"\n",
    "        Training pass. The U-Net predicts noise given x_t at time t (plus optional cond).\n",
    "        \"\"\"\n",
    "        return self.unet(x, t, cond=cond)\n",
    "\n",
    "    ### --- Improved K-space Data Consistency --- ###\n",
    "    def enforce_data_consistency(self, x_pred, x_measured_k, mask):\n",
    "        \"\"\"\n",
    "        Enforce that the predicted image has the same k-space values\n",
    "        where data is known (mask=1). Single-coil example.\n",
    "\n",
    "        Args:\n",
    "          x_pred: [B, 2, H, W] image domain (real, imag)\n",
    "          x_measured_k: [B, 2, H, W] measured k-space data (real, imag)\n",
    "          mask: [B, 1, H, W] or [B, 2, H, W] where 1 indicates known k-space entries\n",
    "                (if shape is [B,1,H,W], we’ll broadcast to match [B,2,H,W])\n",
    "\n",
    "        Returns:\n",
    "          new_x_pred: the updated image after substituting known k-space lines.\n",
    "        \"\"\"\n",
    "        # 1) Transform predicted image to frequency domain\n",
    "        X_pred_k = complex_fft2(x_pred)  # [B, 2, H, W]\n",
    "\n",
    "        # 2) Merge with measured data in the known region\n",
    "        #    Expand mask to 2 channels if necessary\n",
    "        if mask.shape[1] == 1:\n",
    "            mask = mask.repeat(1, 2, 1, 1)  # now [B,2,H,W]\n",
    "\n",
    "        X_updated = X_pred_k * (1 - mask) + x_measured_k * mask\n",
    "\n",
    "        # 3) Go back to image domain\n",
    "        x_updated = complex_ifft2(X_updated)\n",
    "        return x_updated\n",
    "\n",
    "    def reverse_diffusion(self, x_t, t, x_measured_k=None, mask=None, eta=0):\n",
    "        \"\"\"\n",
    "        Single step of reverse diffusion. Optionally enforce data consistency in k-space.\n",
    "\n",
    "        x_t: [B, 2, H, W], the noisy image at time t.\n",
    "        x_measured_k: [B, 2, H, W], the measured k-space data (optional).\n",
    "        mask: [B, 2, H, W] or [B, 1, H, W], indicates known k-space lines (1=> known).\n",
    "        eta: noise level for DDIM sampling.\n",
    "        \"\"\"\n",
    "        cond = None\n",
    "        if (x_measured_k is not None) and (mask is not None):\n",
    "            # In advanced usage, you might feed the measured data or mask as additional channels\n",
    "            # to the U-Net. For now, we just do a direct call:\n",
    "            cond = None  # or torch.cat([some_image, mask], dim=1)\n",
    "\n",
    "        # 1) Predict noise using the U-Net\n",
    "        pred_noise = self.unet(x_t, t, cond=cond)\n",
    "\n",
    "        alpha = self.alphas[t][:, None, None, None]\n",
    "        alpha_cumprod = self.alphas_cumprod[t][:, None, None, None]\n",
    "        alpha_cumprod_prev = self.alphas_cumprod_prev[t][:, None, None, None]\n",
    "\n",
    "        # 2) Estimate x_0 from x_t\n",
    "        pred_x0 = (x_t - torch.sqrt(1 - alpha_cumprod) * pred_noise) / torch.sqrt(alpha_cumprod)\n",
    "        pred_x0 = torch.clamp(pred_x0, -1, 1)\n",
    "\n",
    "        # 3) Compute the mean for x_{t-1}\n",
    "        pred_mean = torch.sqrt(alpha_cumprod_prev) * pred_x0 + \\\n",
    "                    torch.sqrt(1 - alpha_cumprod_prev) * pred_noise\n",
    "\n",
    "        # 4) Add optional stochasticity\n",
    "        if eta > 0:\n",
    "            noise = torch.randn_like(x_t)\n",
    "            sigma = eta * torch.sqrt(self.posterior_variance[t])[:, None, None, None]\n",
    "            pred_mean = pred_mean + sigma * noise\n",
    "\n",
    "        # 5) Data consistency in k-space (if we have measured data)\n",
    "        if (x_measured_k is not None) and (mask is not None):\n",
    "            pred_mean = self.enforce_data_consistency(\n",
    "                x_pred=pred_mean, \n",
    "                x_measured_k=x_measured_k, \n",
    "                mask=mask\n",
    "            )\n",
    "\n",
    "        return pred_mean\n",
    "\n",
    "    def sample(self, shape, x_measured_k=None, mask=None, eta=0):\n",
    "        \"\"\"\n",
    "        Generate samples using reverse diffusion, enforcing k-space consistency if x_measured_k, mask are provided.\n",
    "\n",
    "        shape: (batch_size, 2, H, W) for single-coil real+imag\n",
    "        x_measured_k: [B, 2, H, W]\n",
    "        mask: [B, 1, H, W] or [B, 2, H, W], same spatial size, 1 => known data\n",
    "        eta: additional noise factor for DDIM\n",
    "\n",
    "        Returns final x_0 in image domain.\n",
    "        \"\"\"\n",
    "        x_t = torch.randn(shape, device=self.device)\n",
    "        for timestep in reversed(range(self.timesteps)):\n",
    "            t_tensor = torch.full((shape[0],), timestep, device=self.device, dtype=torch.long)\n",
    "            x_t = self.reverse_diffusion(\n",
    "                x_t, t_tensor, x_measured_k=x_measured_k, mask=mask, eta=eta\n",
    "            )\n",
    "        return x_t"
   ]
  },
  {
   "cell_type": "code",
   "execution_count": 32,
   "id": "e6affbee-a896-44c3-8cd0-7f686f514b7b",
   "metadata": {},
   "outputs": [],
   "source": [
    "import os\n",
    "import torch\n",
    "from torch.utils.data import Dataset, DataLoader\n",
    "import torch.nn.functional as F\n",
    "\n",
    "class MRIDataset(Dataset):\n",
    "    def __init__(self, folder, transform=None):\n",
    "        \"\"\"\n",
    "        Args:\n",
    "            folder (str): Path to the folder containing the processed .pt files.\n",
    "            transform (callable, optional): Optional transform to be applied on a sample.\n",
    "        \"\"\"\n",
    "        self.folder = folder\n",
    "        self.filenames = sorted([f for f in os.listdir(folder) if f.endswith('.pt')])\n",
    "        self.transform = transform\n",
    "\n",
    "    def __len__(self):\n",
    "        return len(self.filenames)\n",
    "\n",
    "    def __getitem__(self, idx):\n",
    "        filepath = os.path.join(self.folder, self.filenames[idx])\n",
    "        sample = torch.load(filepath)\n",
    "        # If the sample has 4 dimensions, we assume its shape is [kx, ky, complex, coil]\n",
    "        # and we want to convert it to [C, H, W] with C = complex * coil, H = kx, W = ky.\n",
    "        if sample.ndim == 4:\n",
    "            # Permute from [kx, ky, complex, coil] to [complex, coil, kx, ky]\n",
    "            sample = sample.permute(2, 3, 0, 1)\n",
    "            # Reshape to combine the complex and coil dimensions\n",
    "            complex_dim, coil_dim, kx, ky = sample.shape\n",
    "            sample = sample.reshape(complex_dim * coil_dim, kx, ky)\n",
    "        if self.transform:\n",
    "            sample = self.transform(sample)\n",
    "        return sample\n",
    "\n",
    "def pad_collate_fn(batch, global_max_channels):\n",
    "    \"\"\"\n",
    "    Pads a list of tensors (each of shape [C, H, W]) along the channel, height, \n",
    "    and width dimensions so that each sample is padded (or cropped) to:\n",
    "      - channels: global_max_channels\n",
    "      - height: max height in the batch\n",
    "      - width: max width in the batch\n",
    "    Returns:\n",
    "        torch.Tensor: Batched tensor of shape [batch_size, global_max_channels, max_H, max_W]\n",
    "    \"\"\"\n",
    "    # Compute max height and width among samples in this batch.\n",
    "    max_h = max(sample.shape[1] for sample in batch)\n",
    "    max_w = max(sample.shape[2] for sample in batch)\n",
    "    \n",
    "    padded_batch = []\n",
    "    for sample in batch:\n",
    "        c, h, w = sample.shape\n",
    "        # Pad channels: if sample has fewer than global_max_channels, pad; if more, crop.\n",
    "        if c < global_max_channels:\n",
    "            pad_c = global_max_channels - c\n",
    "            sample = F.pad(sample, (0, 0, 0, 0, 0, pad_c))\n",
    "        elif c > global_max_channels:\n",
    "            sample = sample[:global_max_channels, :, :]\n",
    "        # Pad spatial dimensions\n",
    "        pad_h = max_h - sample.shape[1]\n",
    "        pad_w = max_w - sample.shape[2]\n",
    "        padded_sample = F.pad(sample, (0, pad_w, 0, pad_h))\n",
    "        padded_batch.append(padded_sample)\n",
    "    \n",
    "    return torch.stack(padded_batch)\n",
    "\n",
    "\n",
    "def get_mri_dataloader(data_folder, batch_size=8, shuffle=True, num_workers=0):\n",
    "    \"\"\"\n",
    "    Creates a DataLoader for the processed MRI data.\n",
    "    \n",
    "    Args:\n",
    "        data_folder (str): Path to the folder containing processed .pt files.\n",
    "        batch_size (int): Batch size.\n",
    "        shuffle (bool): Whether to shuffle the dataset.\n",
    "        num_workers (int): Number of worker processes for data loading.\n",
    "    \n",
    "    Returns:\n",
    "        DataLoader: A PyTorch DataLoader ready to be passed to your model.\n",
    "    \"\"\"\n",
    "    dataset = MRIDataset(data_folder)\n",
    "    global_max_channels = compute_global_max_channels(data_folder)\n",
    "    # Wrap the collate function to automatically pass global_max_channels.\n",
    "    collate_fn = lambda batch: pad_collate_fn(batch, global_max_channels)\n",
    "    dataloader = DataLoader(dataset,\n",
    "                            batch_size=batch_size,\n",
    "                            shuffle=shuffle,\n",
    "                            num_workers=num_workers,\n",
    "                            collate_fn=collate_fn)\n",
    "    return dataloader\n"
   ]
  },
  {
   "cell_type": "code",
   "execution_count": 178,
   "id": "68508b32-619d-42b7-865e-d23b1b3cf274",
   "metadata": {},
   "outputs": [],
   "source": [
    "import os\n",
    "import torch\n",
    "import torch.nn as nn\n",
    "import torch.optim as optim\n",
    "from torch.utils.data import DataLoader, random_split\n",
    "from tqdm import tqdm\n",
    "\n",
    "def train_diffusion_model(\n",
    "    data_folder,\n",
    "    num_epochs=10,\n",
    "    lr=1e-4,\n",
    "    timesteps=1000,\n",
    "    batch_size=2,\n",
    "    schedule=\"linear\",\n",
    "    beta_start=1e-4,\n",
    "    beta_end=0.02,\n",
    "    checkpoint_dir=None,\n",
    "    device = None,\n",
    "    final_model_path=None,\n",
    "    loss_function=\"mse\",  # <-- new parameter to specify loss type\n",
    "    alpha=0.5,                 # used if loss_function == \"combined\"\n",
    "    weight_decay=1e-5\n",
    "):\n",
    "    \"\"\"\n",
    "    Train a diffusion model (DDIM + improved U-Net) on processed MRI data.\n",
    "    Data is assumed to be .pt files of shape [C, H, W].\n",
    "\n",
    "    Args:\n",
    "        data_folder (str): Path to folder containing .pt files (e.g. [coil*2, H, W]).\n",
    "        num_epochs (int): Number of training epochs.\n",
    "        lr (float): Learning rate for optimizer.\n",
    "        timesteps (int): Number of diffusion steps (beta schedule length).\n",
    "        batch_size (int): Dataloader batch size.\n",
    "        schedule (str): \"linear\" or \"cosine\".\n",
    "        beta_start (float): Start of beta range for diffusion schedule.\n",
    "        beta_end (float): End of beta range.\n",
    "        device (torch.device): If None, will auto-detect CUDA.\n",
    "        checkpoint_dir (str): Directory to save model checkpoints. If None, checkpoints are not saved.\n",
    "        final_model_path (str): Where to save the final trained model.\n",
    "        loss_function (str): \"mse\" or \"l1\". Specifies the training loss.\n",
    "    \n",
    "    Returns:\n",
    "        Trained DDIM model.\n",
    "    \"\"\"\n",
    "\n",
    "    if device is None:\n",
    "        device = torch.device(\"cuda\" if torch.cuda.is_available() else \"cpu\")\n",
    "    print(f\"Using device: {device}\")\n",
    "\n",
    "    # Make checkpoint directory if requested\n",
    "    if checkpoint_dir is not None:\n",
    "        os.makedirs(checkpoint_dir, exist_ok=True)\n",
    "    \n",
    "    # Step 1: Create dataset\n",
    "    dataset = MRIDataset(data_folder)\n",
    "    \n",
    "    # Now the expected shape is: [kx, ky, 2, coil]\n",
    "    sample = dataset[0]\n",
    "    num_coils = sample.shape[-1]  # The last dimension represents coils\n",
    "    print(f\"Detected number of coils (first sample): {num_coils}\")\n",
    "    print(\"Sample shape:\", sample.shape)\n",
    "    \n",
    "    # Step 2: Compute max number of channels across all .pt files, if needed\n",
    "    global_max_channels = compute_global_max_channels(data_folder)\n",
    "    \n",
    "    # Step 3: Train/val split at 70:25 ratio, ignoring leftover 5% if any\n",
    "    total_len = len(dataset)\n",
    "    train_size = int(0.75 * total_len)\n",
    "    val_size = int(0.15 * total_len)\n",
    "    leftover_size = total_len - (train_size + val_size) # 0.15\n",
    "    train_ds, val_ds, test_ds = random_split(dataset, [train_size, val_size, leftover_size])\n",
    "    \n",
    "    print(f\"Dataset split: {train_size} train, {val_size} val, {leftover_size} test.\")\n",
    "    \n",
    "    # We define a custom collate_fn (for padding, if needed)...\n",
    "    def collate_fn(batch):\n",
    "        return pad_collate_fn(batch, global_max_channels)\n",
    "    \n",
    "    # Step 4: Dataloaders\n",
    "    train_loader = DataLoader(\n",
    "        train_ds,\n",
    "        batch_size=batch_size,\n",
    "        shuffle=True,\n",
    "        pin_memory=True,\n",
    "        collate_fn=collate_fn\n",
    "    )\n",
    "    val_loader = DataLoader(\n",
    "        val_ds,\n",
    "        batch_size=batch_size,\n",
    "        shuffle=True,\n",
    "        pin_memory=True,\n",
    "        collate_fn=collate_fn\n",
    "        )\n",
    "    test_loader = DataLoader(\n",
    "        test_ds,\n",
    "        batch_size=batch_size,\n",
    "        shuffle=True,\n",
    "        pin_memory=True,\n",
    "        collate_fn=collate_fn\n",
    "        )\n",
    "\n",
    "    # Step 5: Build the U-Net (or improved U-Net if you changed it)\n",
    "    unet = UNet(\n",
    "        in_channels=global_max_channels,    # input channels (max channels across dataset)\n",
    "        out_channels=global_max_channels,   # output channels  \n",
    "        features=[64, 128, 256],            # can be adjusted as needed\n",
    "    ).to(device)\n",
    "\n",
    "    # Step 6: Build the DDIM\n",
    "    ddim = DDIM(\n",
    "        unet=unet,\n",
    "        timesteps=timesteps,\n",
    "        beta_start=beta_start,\n",
    "        beta_end=beta_end,\n",
    "        schedule=schedule,\n",
    "        device=device\n",
    "    )\n",
    "    \n",
    "    mse_criterion = nn.MSELoss()\n",
    "    l1_criterion = nn.L1Loss()\n",
    "\n",
    "    def combined_loss(pred, target, alpha=alpha):\n",
    "        return alpha * l1_criterion(pred, target) + (1 - alpha) * mse_criterion(pred, target)\n",
    "\n",
    "    if loss_function.lower() == \"mse\":\n",
    "        criterion = mse_criterion\n",
    "        print(\"Using MSELoss for training.\")\n",
    "    elif loss_function.lower() == \"l1\":\n",
    "        criterion = l1_criterion\n",
    "        print(\"Using L1Loss for training.\")\n",
    "    elif loss_function.lower() == \"combined\":\n",
    "        criterion = lambda p, t: combined_loss(p, t, alpha=alpha)\n",
    "        print(f\"Using combined L1 + MSE loss (alpha={alpha}).\")\n",
    "    else:\n",
    "        raise ValueError(f\"Unknown loss_function: {loss_function}. Please use 'mse', 'l1', or 'combined'.\")\n",
    "\n",
    "    # Step 8: Create optimizer\n",
    "    optimizer = optim.Adam(ddim.parameters(), lr=lr, weight_decay=weight_decay)\n",
    "    scheduler = torch.optim.lr_scheduler.CosineAnnealingLR(optimizer, T_max=num_epochs)\n",
    "\n",
    "    # Step 9: Training loop\n",
    "    for epoch in range(num_epochs):\n",
    "        ddim.train()\n",
    "        train_loss_sum = 0.0\n",
    "\n",
    "        # -- Train --\n",
    "        for batch in tqdm(train_loader, desc=f\"[Train] Epoch {epoch+1}/{num_epochs}\"):\n",
    "            batch = batch.to(device)  # shape: (B, C, H, W)\n",
    "\n",
    "            # Sample random timesteps for each batch element\n",
    "            t = torch.randint(0, timesteps, (batch.size(0),), device=device).long()\n",
    "\n",
    "            # Forward diffusion: get the noised version and the ground-truth noise\n",
    "            x_t, noise = ddim.forward_diffusion(batch, t)\n",
    "\n",
    "            # No specific conditioning for now\n",
    "            cond = None\n",
    "\n",
    "            # Predict the noise\n",
    "            pred_noise = ddim(x_t, t, cond=cond)\n",
    "\n",
    "            # Loss against the true noise\n",
    "            loss = criterion(pred_noise, noise)\n",
    "\n",
    "            optimizer.zero_grad()\n",
    "            loss.backward()\n",
    "            optimizer.step()\n",
    "\n",
    "            train_loss_sum += loss.item()\n",
    "\n",
    "        avg_train_loss = train_loss_sum / len(train_loader)\n",
    "\n",
    "        # -- Validate --\n",
    "        ddim.eval()\n",
    "        val_loss_sum = 0.0\n",
    "        with torch.no_grad():\n",
    "            for batch in tqdm(val_loader, desc=f\"[Val]   Epoch {epoch+1}/{num_epochs}\"):\n",
    "                batch = batch.to(device)\n",
    "\n",
    "                t = torch.randint(0, timesteps, (batch.size(0),), device=device).long()\n",
    "                x_t, noise = ddim.forward_diffusion(batch, t)\n",
    "                cond = None\n",
    "\n",
    "                pred_noise = ddim(x_t, t, cond=cond)\n",
    "                val_loss = criterion(pred_noise, noise)\n",
    "                val_loss_sum += val_loss.item()\n",
    "\n",
    "        avg_val_loss = val_loss_sum / len(val_loader)\n",
    "\n",
    "        # Print epoch summary\n",
    "        print(f\"Epoch [{epoch+1}/{num_epochs}] | \"\n",
    "              f\"Train Loss: {avg_train_loss:.6f} | Val Loss: {avg_val_loss:.6f}\")\n",
    "\n",
    "        # Save checkpoint\n",
    "        if checkpoint_dir is not None:\n",
    "            checkpoint_path = os.path.join(checkpoint_dir, f\"ddim_epoch_{epoch+1}.pt\")\n",
    "            torch.save(ddim.state_dict(), checkpoint_path)\n",
    "            print(f\"Saved checkpoint: {checkpoint_path}\")\n",
    "\n",
    "    # Save final model if requested\n",
    "    if final_model_path is not None:\n",
    "        torch.save(ddim.state_dict(), final_model_path)\n",
    "        print(f\"Final model saved at: {final_model_path}\")\n",
    "\n",
    "    print(\"Training complete!\")\n",
    "    return ddim\n"
   ]
  },
  {
   "cell_type": "code",
   "execution_count": 181,
   "id": "6d543cca-a770-4ab4-9206-3f0ff8ddc74a",
   "metadata": {},
   "outputs": [
    {
     "name": "stdout",
     "output_type": "stream",
     "text": [
      "Using device: cuda\n",
      "Detected number of coils (first sample): 208\n",
      "Sample shape: torch.Size([30, 512, 208])\n",
      "Dataset split: 4581 train, 916 val, 612 test.\n",
      "Using combined L1 + MSE loss (alpha=0.5).\n"
     ]
    },
    {
     "name": "stderr",
     "output_type": "stream",
     "text": [
      "[Train] Epoch 1/15: 100%|██████████| 573/573 [53:47<00:00,  5.63s/it]\n",
      "[Val]   Epoch 1/15: 100%|██████████| 115/115 [10:36<00:00,  5.54s/it]\n"
     ]
    },
    {
     "name": "stdout",
     "output_type": "stream",
     "text": [
      "Epoch [1/15] | Train Loss: 0.769323 | Val Loss: 0.711237\n",
      "Saved checkpoint: checkpoints/ddim_epoch_1.pt\n"
     ]
    },
    {
     "name": "stderr",
     "output_type": "stream",
     "text": [
      "[Train] Epoch 2/15: 100%|██████████| 573/573 [54:27<00:00,  5.70s/it]\n",
      "[Val]   Epoch 2/15: 100%|██████████| 115/115 [09:49<00:00,  5.12s/it]\n"
     ]
    },
    {
     "name": "stdout",
     "output_type": "stream",
     "text": [
      "Epoch [2/15] | Train Loss: 0.685229 | Val Loss: 0.661577\n",
      "Saved checkpoint: checkpoints/ddim_epoch_2.pt\n"
     ]
    },
    {
     "name": "stderr",
     "output_type": "stream",
     "text": [
      "[Train] Epoch 3/15: 100%|██████████| 573/573 [55:22<00:00,  5.80s/it]\n",
      "[Val]   Epoch 3/15: 100%|██████████| 115/115 [10:44<00:00,  5.60s/it]\n"
     ]
    },
    {
     "name": "stdout",
     "output_type": "stream",
     "text": [
      "Epoch [3/15] | Train Loss: 0.656269 | Val Loss: 0.661913\n",
      "Saved checkpoint: checkpoints/ddim_epoch_3.pt\n"
     ]
    },
    {
     "name": "stderr",
     "output_type": "stream",
     "text": [
      "[Train] Epoch 4/15: 100%|██████████| 573/573 [54:58<00:00,  5.76s/it]\n",
      "[Val]   Epoch 4/15: 100%|██████████| 115/115 [10:47<00:00,  5.63s/it]\n"
     ]
    },
    {
     "name": "stdout",
     "output_type": "stream",
     "text": [
      "Epoch [4/15] | Train Loss: 0.638085 | Val Loss: 0.650171\n",
      "Saved checkpoint: checkpoints/ddim_epoch_4.pt\n"
     ]
    },
    {
     "name": "stderr",
     "output_type": "stream",
     "text": [
      "[Train] Epoch 5/15: 100%|██████████| 573/573 [55:29<00:00,  5.81s/it] \n",
      "[Val]   Epoch 5/15: 100%|██████████| 115/115 [10:42<00:00,  5.59s/it]\n"
     ]
    },
    {
     "name": "stdout",
     "output_type": "stream",
     "text": [
      "Epoch [5/15] | Train Loss: 0.627081 | Val Loss: 0.627023\n",
      "Saved checkpoint: checkpoints/ddim_epoch_5.pt\n"
     ]
    },
    {
     "name": "stderr",
     "output_type": "stream",
     "text": [
      "[Train] Epoch 6/15: 100%|██████████| 573/573 [54:25<00:00,  5.70s/it]\n",
      "[Val]   Epoch 6/15: 100%|██████████| 115/115 [10:29<00:00,  5.47s/it]\n"
     ]
    },
    {
     "name": "stdout",
     "output_type": "stream",
     "text": [
      "Epoch [6/15] | Train Loss: 0.612548 | Val Loss: 0.604439\n",
      "Saved checkpoint: checkpoints/ddim_epoch_6.pt\n"
     ]
    },
    {
     "name": "stderr",
     "output_type": "stream",
     "text": [
      "[Train] Epoch 7/15: 100%|██████████| 573/573 [54:20<00:00,  5.69s/it]\n",
      "[Val]   Epoch 7/15: 100%|██████████| 115/115 [10:39<00:00,  5.56s/it]\n"
     ]
    },
    {
     "name": "stdout",
     "output_type": "stream",
     "text": [
      "Epoch [7/15] | Train Loss: 0.606578 | Val Loss: 0.607647\n",
      "Saved checkpoint: checkpoints/ddim_epoch_7.pt\n"
     ]
    },
    {
     "name": "stderr",
     "output_type": "stream",
     "text": [
      "[Train] Epoch 8/15: 100%|██████████| 573/573 [55:09<00:00,  5.78s/it]\n",
      "[Val]   Epoch 8/15: 100%|██████████| 115/115 [10:53<00:00,  5.68s/it]\n"
     ]
    },
    {
     "name": "stdout",
     "output_type": "stream",
     "text": [
      "Epoch [8/15] | Train Loss: 0.601894 | Val Loss: 0.604733\n",
      "Saved checkpoint: checkpoints/ddim_epoch_8.pt\n"
     ]
    },
    {
     "name": "stderr",
     "output_type": "stream",
     "text": [
      "[Train] Epoch 9/15: 100%|██████████| 573/573 [55:10<00:00,  5.78s/it] \n",
      "[Val]   Epoch 9/15: 100%|██████████| 115/115 [10:31<00:00,  5.49s/it]\n"
     ]
    },
    {
     "name": "stdout",
     "output_type": "stream",
     "text": [
      "Epoch [9/15] | Train Loss: 0.597727 | Val Loss: 0.589088\n",
      "Saved checkpoint: checkpoints/ddim_epoch_9.pt\n"
     ]
    },
    {
     "name": "stderr",
     "output_type": "stream",
     "text": [
      "[Train] Epoch 10/15: 100%|██████████| 573/573 [54:56<00:00,  5.75s/it]\n",
      "[Val]   Epoch 10/15: 100%|██████████| 115/115 [10:36<00:00,  5.53s/it]\n"
     ]
    },
    {
     "name": "stdout",
     "output_type": "stream",
     "text": [
      "Epoch [10/15] | Train Loss: 0.596242 | Val Loss: 0.597401\n",
      "Saved checkpoint: checkpoints/ddim_epoch_10.pt\n"
     ]
    },
    {
     "name": "stderr",
     "output_type": "stream",
     "text": [
      "[Train] Epoch 11/15: 100%|██████████| 573/573 [54:49<00:00,  5.74s/it]\n",
      "[Val]   Epoch 11/15: 100%|██████████| 115/115 [10:49<00:00,  5.65s/it]\n"
     ]
    },
    {
     "name": "stdout",
     "output_type": "stream",
     "text": [
      "Epoch [11/15] | Train Loss: 0.597058 | Val Loss: 0.593158\n",
      "Saved checkpoint: checkpoints/ddim_epoch_11.pt\n"
     ]
    },
    {
     "name": "stderr",
     "output_type": "stream",
     "text": [
      "[Train] Epoch 12/15: 100%|██████████| 573/573 [54:15<00:00,  5.68s/it] \n",
      "[Val]   Epoch 12/15: 100%|██████████| 115/115 [10:40<00:00,  5.57s/it]\n"
     ]
    },
    {
     "name": "stdout",
     "output_type": "stream",
     "text": [
      "Epoch [12/15] | Train Loss: 0.596586 | Val Loss: 0.590493\n",
      "Saved checkpoint: checkpoints/ddim_epoch_12.pt\n"
     ]
    },
    {
     "name": "stderr",
     "output_type": "stream",
     "text": [
      "[Train] Epoch 13/15: 100%|██████████| 573/573 [54:13<00:00,  5.68s/it] \n",
      "[Val]   Epoch 13/15: 100%|██████████| 115/115 [10:51<00:00,  5.66s/it]\n"
     ]
    },
    {
     "name": "stdout",
     "output_type": "stream",
     "text": [
      "Epoch [13/15] | Train Loss: 0.593577 | Val Loss: 0.588730\n",
      "Saved checkpoint: checkpoints/ddim_epoch_13.pt\n"
     ]
    },
    {
     "name": "stderr",
     "output_type": "stream",
     "text": [
      "[Train] Epoch 14/15: 100%|██████████| 573/573 [56:33<00:00,  5.92s/it] \n",
      "[Val]   Epoch 14/15: 100%|██████████| 115/115 [10:17<00:00,  5.37s/it]\n"
     ]
    },
    {
     "name": "stdout",
     "output_type": "stream",
     "text": [
      "Epoch [14/15] | Train Loss: 0.594286 | Val Loss: 0.603357\n",
      "Saved checkpoint: checkpoints/ddim_epoch_14.pt\n"
     ]
    },
    {
     "name": "stderr",
     "output_type": "stream",
     "text": [
      "[Train] Epoch 15/15: 100%|██████████| 573/573 [56:28<00:00,  5.91s/it] \n",
      "[Val]   Epoch 15/15: 100%|██████████| 115/115 [11:08<00:00,  5.81s/it]"
     ]
    },
    {
     "name": "stdout",
     "output_type": "stream",
     "text": [
      "Epoch [15/15] | Train Loss: 0.593349 | Val Loss: 0.595500\n",
      "Saved checkpoint: checkpoints/ddim_epoch_15.pt\n",
      "Final model saved at: models/new2_1_model.pt\n",
      "Training complete!\n"
     ]
    },
    {
     "name": "stderr",
     "output_type": "stream",
     "text": [
      "\n"
     ]
    }
   ],
   "source": [
    "if __name__ == \"__main__\":\n",
    "    # Path to your folder containing the .pt slice/phase files\n",
    "    data_folder = \"mri-2\"\n",
    "\n",
    "    checkpoint_directory = \"checkpoints\"\n",
    "    final_model_path = \"models/new2_1_model.pt\"\n",
    "\n",
    "    # Train the model with desired hyperparameters\n",
    "    trained_ddim_model = train_diffusion_model(\n",
    "        data_folder,\n",
    "        num_epochs=15,\n",
    "        lr=1e-3,\n",
    "        timesteps=1000,\n",
    "        batch_size=8,\n",
    "        schedule=\"cosine\",\n",
    "        beta_start=1e-4,\n",
    "        beta_end=0.02,\n",
    "        checkpoint_dir=checkpoint_directory,\n",
    "        device = None, \n",
    "        final_model_path=final_model_path,\n",
    "        loss_function=\"combined\"\n",
    "    )"
   ]
  },
  {
   "cell_type": "code",
   "execution_count": 37,
   "id": "e5eaff0c-40ca-4860-bb06-94e0b8280780",
   "metadata": {},
   "outputs": [
    {
     "name": "stdout",
     "output_type": "stream",
     "text": [
      "Using device: cuda\n",
      "Detected in_channels (first sample): 30\n",
      "Sample shape: torch.Size([30, 512, 208])\n",
      "Dataset split: 4581 train, 1527 val, 1 leftover.\n",
      "Using combined L1 + MSE loss (alpha=0.5).\n"
     ]
    },
    {
     "name": "stderr",
     "output_type": "stream",
     "text": [
      "[Train] Epoch 1/20: 100%|██████████| 1146/1146 [32:46<00:00,  1.72s/it]\n",
      "[Val]   Epoch 1/20: 100%|██████████| 382/382 [11:18<00:00,  1.78s/it]\n"
     ]
    },
    {
     "name": "stdout",
     "output_type": "stream",
     "text": [
      "Epoch [1/20] | Train Loss: 0.781224 | Val Loss: 0.718035\n",
      "Saved checkpoint: checkpoints/ddim_epoch_1.pt\n"
     ]
    },
    {
     "name": "stderr",
     "output_type": "stream",
     "text": [
      "[Train] Epoch 2/20: 100%|██████████| 1146/1146 [39:21<00:00,  2.06s/it]\n",
      "[Val]   Epoch 2/20: 100%|██████████| 382/382 [17:24<00:00,  2.74s/it]\n"
     ]
    },
    {
     "name": "stdout",
     "output_type": "stream",
     "text": [
      "Epoch [2/20] | Train Loss: 0.687720 | Val Loss: 0.662581\n",
      "Saved checkpoint: checkpoints/ddim_epoch_2.pt\n"
     ]
    },
    {
     "name": "stderr",
     "output_type": "stream",
     "text": [
      "[Train] Epoch 3/20: 100%|██████████| 1146/1146 [50:53<00:00,  2.66s/it]\n",
      "[Val]   Epoch 3/20: 100%|██████████| 382/382 [16:29<00:00,  2.59s/it]\n"
     ]
    },
    {
     "name": "stdout",
     "output_type": "stream",
     "text": [
      "Epoch [3/20] | Train Loss: 0.640781 | Val Loss: 0.624581\n",
      "Saved checkpoint: checkpoints/ddim_epoch_3.pt\n"
     ]
    },
    {
     "name": "stderr",
     "output_type": "stream",
     "text": [
      "[Train] Epoch 4/20: 100%|██████████| 1146/1146 [45:06<00:00,  2.36s/it]\n",
      "[Val]   Epoch 4/20: 100%|██████████| 382/382 [17:26<00:00,  2.74s/it]\n"
     ]
    },
    {
     "name": "stdout",
     "output_type": "stream",
     "text": [
      "Epoch [4/20] | Train Loss: 0.609926 | Val Loss: 0.598426\n",
      "Saved checkpoint: checkpoints/ddim_epoch_4.pt\n"
     ]
    },
    {
     "name": "stderr",
     "output_type": "stream",
     "text": [
      "[Train] Epoch 5/20: 100%|██████████| 1146/1146 [41:43<00:00,  2.18s/it]\n",
      "[Val]   Epoch 5/20: 100%|██████████| 382/382 [17:30<00:00,  2.75s/it]\n"
     ]
    },
    {
     "name": "stdout",
     "output_type": "stream",
     "text": [
      "Epoch [5/20] | Train Loss: 0.591184 | Val Loss: 0.584774\n",
      "Saved checkpoint: checkpoints/ddim_epoch_5.pt\n"
     ]
    },
    {
     "name": "stderr",
     "output_type": "stream",
     "text": [
      "[Train] Epoch 6/20: 100%|██████████| 1146/1146 [50:33<00:00,  2.65s/it]\n",
      "[Val]   Epoch 6/20: 100%|██████████| 382/382 [17:20<00:00,  2.72s/it]\n"
     ]
    },
    {
     "name": "stdout",
     "output_type": "stream",
     "text": [
      "Epoch [6/20] | Train Loss: 0.581656 | Val Loss: 0.578323\n",
      "Saved checkpoint: checkpoints/ddim_epoch_6.pt\n"
     ]
    },
    {
     "name": "stderr",
     "output_type": "stream",
     "text": [
      "[Train] Epoch 7/20: 100%|██████████| 1146/1146 [54:30<00:00,  2.85s/it]\n",
      "[Val]   Epoch 7/20: 100%|██████████| 382/382 [17:55<00:00,  2.82s/it]\n"
     ]
    },
    {
     "name": "stdout",
     "output_type": "stream",
     "text": [
      "Epoch [7/20] | Train Loss: 0.571452 | Val Loss: 0.566236\n",
      "Saved checkpoint: checkpoints/ddim_epoch_7.pt\n"
     ]
    },
    {
     "name": "stderr",
     "output_type": "stream",
     "text": [
      "[Train] Epoch 8/20: 100%|██████████| 1146/1146 [52:03<00:00,  2.73s/it]\n",
      "[Val]   Epoch 8/20: 100%|██████████| 382/382 [17:44<00:00,  2.79s/it]\n"
     ]
    },
    {
     "name": "stdout",
     "output_type": "stream",
     "text": [
      "Epoch [8/20] | Train Loss: 0.559753 | Val Loss: 0.559766\n",
      "Saved checkpoint: checkpoints/ddim_epoch_8.pt\n"
     ]
    },
    {
     "name": "stderr",
     "output_type": "stream",
     "text": [
      "[Train] Epoch 9/20: 100%|██████████| 1146/1146 [52:49<00:00,  2.77s/it]\n",
      "[Val]   Epoch 9/20: 100%|██████████| 382/382 [17:45<00:00,  2.79s/it]\n"
     ]
    },
    {
     "name": "stdout",
     "output_type": "stream",
     "text": [
      "Epoch [9/20] | Train Loss: 0.555624 | Val Loss: 0.548442\n",
      "Saved checkpoint: checkpoints/ddim_epoch_9.pt\n"
     ]
    },
    {
     "name": "stderr",
     "output_type": "stream",
     "text": [
      "[Train] Epoch 10/20: 100%|██████████| 1146/1146 [52:10<00:00,  2.73s/it]\n",
      "[Val]   Epoch 10/20: 100%|██████████| 382/382 [18:09<00:00,  2.85s/it]\n"
     ]
    },
    {
     "name": "stdout",
     "output_type": "stream",
     "text": [
      "Epoch [10/20] | Train Loss: 0.552023 | Val Loss: 0.548621\n",
      "Saved checkpoint: checkpoints/ddim_epoch_10.pt\n"
     ]
    },
    {
     "name": "stderr",
     "output_type": "stream",
     "text": [
      "[Train] Epoch 11/20: 100%|██████████| 1146/1146 [51:46<00:00,  2.71s/it] \n",
      "IOPub message rate exceeded.██▉     | 190/382 [08:45<09:01,  2.82s/it]\n",
      "The Jupyter server will temporarily stop sending output\n",
      "to the client in order to avoid crashing it.\n",
      "To change this limit, set the config variable\n",
      "`--ServerApp.iopub_msg_rate_limit`.\n",
      "\n",
      "Current values:\n",
      "ServerApp.iopub_msg_rate_limit=1000.0 (msgs/sec)\n",
      "ServerApp.rate_limit_window=3.0 (secs)\n",
      "\n",
      "[Val]   Epoch 15/20: 100%|██████████| 382/382 [13:19<00:00,  2.09s/it]\n"
     ]
    },
    {
     "name": "stdout",
     "output_type": "stream",
     "text": [
      "Epoch [15/20] | Train Loss: 0.538122 | Val Loss: 0.535759\n",
      "Saved checkpoint: checkpoints/ddim_epoch_15.pt\n"
     ]
    },
    {
     "name": "stderr",
     "output_type": "stream",
     "text": [
      "[Train] Epoch 16/20: 100%|██████████| 1146/1146 [51:29<00:00,  2.70s/it]\n",
      "[Val]   Epoch 16/20: 100%|██████████| 382/382 [17:36<00:00,  2.77s/it]\n"
     ]
    },
    {
     "name": "stdout",
     "output_type": "stream",
     "text": [
      "Epoch [16/20] | Train Loss: 0.538278 | Val Loss: 0.536378\n",
      "Saved checkpoint: checkpoints/ddim_epoch_16.pt\n"
     ]
    },
    {
     "name": "stderr",
     "output_type": "stream",
     "text": [
      "[Train] Epoch 17/20: 100%|██████████| 1146/1146 [49:06<00:00,  2.57s/it]\n",
      "[Val]   Epoch 17/20: 100%|██████████| 382/382 [13:06<00:00,  2.06s/it]\n"
     ]
    },
    {
     "name": "stdout",
     "output_type": "stream",
     "text": [
      "Epoch [17/20] | Train Loss: 0.533011 | Val Loss: 0.530907\n",
      "Saved checkpoint: checkpoints/ddim_epoch_17.pt\n"
     ]
    },
    {
     "name": "stderr",
     "output_type": "stream",
     "text": [
      "[Train] Epoch 18/20: 100%|██████████| 1146/1146 [50:14<00:00,  2.63s/it]\n",
      "[Val]   Epoch 18/20: 100%|██████████| 382/382 [17:37<00:00,  2.77s/it]\n"
     ]
    },
    {
     "name": "stdout",
     "output_type": "stream",
     "text": [
      "Epoch [18/20] | Train Loss: 0.529985 | Val Loss: 0.529597\n",
      "Saved checkpoint: checkpoints/ddim_epoch_18.pt\n"
     ]
    },
    {
     "name": "stderr",
     "output_type": "stream",
     "text": [
      "[Train] Epoch 19/20: 100%|██████████| 1146/1146 [47:44<00:00,  2.50s/it]\n",
      "[Val]   Epoch 19/20: 100%|██████████| 382/382 [17:32<00:00,  2.76s/it]\n"
     ]
    },
    {
     "name": "stdout",
     "output_type": "stream",
     "text": [
      "Epoch [19/20] | Train Loss: 0.529562 | Val Loss: 0.525792\n",
      "Saved checkpoint: checkpoints/ddim_epoch_19.pt\n"
     ]
    },
    {
     "name": "stderr",
     "output_type": "stream",
     "text": [
      "[Train] Epoch 20/20: 100%|██████████| 1146/1146 [53:38<00:00,  2.81s/it]\n",
      "[Val]   Epoch 20/20: 100%|██████████| 382/382 [17:29<00:00,  2.75s/it]"
     ]
    },
    {
     "name": "stdout",
     "output_type": "stream",
     "text": [
      "Epoch [20/20] | Train Loss: 0.527539 | Val Loss: 0.526150\n",
      "Saved checkpoint: checkpoints/ddim_epoch_20.pt\n",
      "Final model saved at: models/new_2_model.pt\n",
      "Training complete!\n"
     ]
    },
    {
     "name": "stderr",
     "output_type": "stream",
     "text": [
      "\n"
     ]
    }
   ],
   "source": [
    "if __name__ == \"__main__\":\n",
    "    # Path to your folder containing the .pt slice/phase files\n",
    "    data_folder = \"mri-2\"\n",
    "\n",
    "    checkpoint_directory = \"checkpoints\"\n",
    "    final_model_path = \"models/new_2_model.pt\" # added scheduler\n",
    "\n",
    "    # Train the model with desired hyperparameters\n",
    "    trained_ddim_model = train_diffusion_model(\n",
    "        data_folder,\n",
    "        num_epochs=20,\n",
    "        lr=1e-4,\n",
    "        timesteps=1000,\n",
    "        batch_size=4,\n",
    "        schedule=\"cosine\",\n",
    "        beta_start=1e-4,\n",
    "        beta_end=0.02,\n",
    "        checkpoint_dir=checkpoint_directory,\n",
    "        device = None, \n",
    "        final_model_path=final_model_path,\n",
    "        loss_function=\"combined\"\n",
    "    )"
   ]
  },
  {
   "cell_type": "code",
   "execution_count": null,
   "id": "a66f4b27-01d4-4fb9-922f-b8e6f828c29c",
   "metadata": {},
   "outputs": [],
   "source": [
    "if __name__ == \"__main__\":\n",
    "    # Path to your folder containing the .pt slice/phase files\n",
    "    data_folder = \"mri-2\"\n",
    "\n",
    "    checkpoint_directory = \"checkpoints\"\n",
    "    final_model_path = \"models/new_3_model.pt\" # added scheduler\n",
    "\n",
    "    # Train the model with desired hyperparameters\n",
    "    trained_ddim_model = train_diffusion_model(\n",
    "        data_folder,\n",
    "        num_epochs=20,\n",
    "        lr=1e-4,\n",
    "        timesteps=1000,\n",
    "        batch_size=2,\n",
    "        schedule=\"cosine\",\n",
    "        beta_start=1e-4,\n",
    "        beta_end=0.02,\n",
    "        checkpoint_dir=checkpoint_directory,\n",
    "        device = None, \n",
    "        final_model_path=final_model_path,\n",
    "        loss_function=\"l1\"\n",
    "    )"
   ]
  },
  {
   "cell_type": "code",
   "execution_count": 99,
   "id": "615e026a-afb0-4583-a89e-68bb301701fa",
   "metadata": {},
   "outputs": [
    {
     "name": "stdout",
     "output_type": "stream",
     "text": [
      "Original sample shape: torch.Size([384, 144, 2, 34])\n",
      "Reshaped sample shape: torch.Size([68, 384, 144])\n",
      "After padding, sample shape: torch.Size([76, 384, 144])\n",
      "torch.Size([38, 384, 144])\n",
      "torch.Size([1, 384, 144])\n"
     ]
    },
    {
     "data": {
      "image/png": "[encoded data removed]",
      "text/plain": [
       "<Figure size 432x432 with 1 Axes>"
      ]
     },
     "metadata": {
      "needs_background": "light"
     },
     "output_type": "display_data"
    }
   ],
   "source": [
    "import torch.fft\n",
    "import matplotlib.pyplot as plt\n",
    "\n",
    "# --- Load your trained model ---\n",
    "# Replace these hyperparameters with the ones you used during training.\n",
    "global_max_channels = 76         # for example, if you have 15 coils (15x2=30)\n",
    "features = [64, 128, 256]        # example feature sizes\n",
    "timesteps = 1000                 # diffusion timesteps, etc.\n",
    "schedule = \"cosine\"              # or \"cosine\"\n",
    "beta_start = 1e-4\n",
    "beta_end = 0.02\n",
    "\n",
    "device = torch.device(\"cuda\" if torch.cuda.is_available() else \"cpu\")\n",
    "\n",
    "unet = UNet(\n",
    "    in_channels=global_max_channels,    # input channels should match the global maximum channels\n",
    "    out_channels=global_max_channels,   # model outputs k-space data with the same channel count\n",
    "    features=features,\n",
    ")\n",
    "ddim = DDIM(\n",
    "    unet=unet,\n",
    "    timesteps=timesteps,\n",
    "    beta_start=beta_start,\n",
    "    beta_end=beta_end,\n",
    "    schedule=schedule,\n",
    "    device=device\n",
    ")\n",
    "\n",
    "# Load the saved state dictionary\n",
    "state_dict = torch.load(\"models/new_2_model.pt\", map_location=device)\n",
    "ddim.load_state_dict(state_dict)\n",
    "ddim.to(device)\n",
    "ddim.eval()\n",
    "\n",
    "# --- Load a sample input ---\n",
    "# The sample is expected to be a .pt file with shape [kx, ky, 2, coil]\n",
    "sample = torch.load(\"mri-2/us_0058_3T_slice0_phase34.pt\", map_location=device)\n",
    "print(\"Original sample shape:\", sample.shape) \n",
    "\n",
    "# Permute to get [2, coil, kx, ky]\n",
    "sample = sample.permute(2, 3, 0, 1)\n",
    "\n",
    "sample = sample.reshape(-1, sample.shape[-2], sample.shape[-1])\n",
    "\n",
    "print(\"Reshaped sample shape:\", sample.shape)\n",
    "\n",
    "# Pad the sample along the channel dimension if needed.\n",
    "expected_channels = 76  # global_max_channels used during training\n",
    "if sample.shape[0] < expected_channels:\n",
    "    pad_channels = expected_channels - sample.shape[0]\n",
    "    sample = F.pad(sample, (0, 0, 0, 0, 0, pad_channels))\n",
    "    print(\"After padding, sample shape:\", sample.shape)\n",
    "elif sample.shape[0] > expected_channels:\n",
    "    # Alternatively, crop if the sample has more channels than expected.\n",
    "    sample = sample[:expected_channels, :, :]\n",
    "    print(\"After cropping, sample shape:\", sample.shape)\n",
    "\n",
    "# Add a batch dimension: now [1, C, H, W]\n",
    "sample = sample.unsqueeze(0).to(device)\n",
    "\n",
    "# --- Run the model ---\n",
    "with torch.no_grad():\n",
    "    t = torch.randint(0, timesteps, (sample.size(0),), device=device).long()\n",
    "    kspace_output = ddim(sample, t=t, cond=None)\n",
    "    # Expected kspace_output shape: [B, global_max_channels, H, W]\n",
    "\n",
    "# --- Convert k-space output to image domain ---\n",
    "B, C, H, W = kspace_output.shape\n",
    "if C % 2 != 0:\n",
    "    raise ValueError(\"Expected an even number of channels (coil*2).\")\n",
    "num_coils = C // 2\n",
    "\n",
    "# Reshape to separate coil and complex dimensions: [B, num_coils, 2, H, W]\n",
    "kspace_reshaped = kspace_output.view(B, num_coils, 2, H, W)\n",
    "# Convert to a complex tensor: channel 0 is real, channel 1 is imaginary\n",
    "kspace_complex = torch.complex(kspace_reshaped[:, :, 0, :, :], kspace_reshaped[:, :, 1, :, :])  # [B, num_coils, H, W]\n",
    "# kspace_complex = torch.fft.fftshift(kspace_complex)\n",
    "\n",
    "print(kspace_complex[0, :,:,:].shape)\n",
    "\n",
    "# Apply a 2D inverse FFT to get the image domain data (using orthogonal normalization)\n",
    "image_coils = torch.fft.ifft2(kspace_complex, dim=(-2, -1),  norm='ortho') # kspace_complex dimension not compatible\n",
    "\n",
    "# Compute the magnitude of each coil's image\n",
    "coil_magnitudes = torch.abs(image_coils)\n",
    "# Combine coils using the Sum-Of-Squares (SOS) method\n",
    "reconstructed_image = torch.sqrt(torch.sum(coil_magnitudes ** 2, dim=1))  # [B, H, W]\n",
    "img_min = reconstructed_image.min()\n",
    "img_max = reconstructed_image.max()\n",
    "reconstructed_image = (reconstructed_image - img_min) / (img_max - img_min + 1e-8)\n",
    "# Visualize the first image in the batch\n",
    "img_to_show = reconstructed_image[0].cpu().numpy()\n",
    "print(reconstructed_image.shape)\n",
    "\n",
    "plt.figure(figsize=(6, 6))\n",
    "plt.imshow(img_to_show, cmap='gray')\n",
    "plt.title(\"Reconstructed Image (IFFT of k-space Output)\")\n",
    "plt.axis(\"off\")\n",
    "plt.show()\n"
   ]
  },
  {
   "cell_type": "code",
   "execution_count": 176,
   "id": "0ab7b5bf-1bce-44ef-a8da-9ff8943474aa",
   "metadata": {},
   "outputs": [
    {
     "name": "stdout",
     "output_type": "stream",
     "text": [
      "torch.Size([30, 512, 208])\n",
      "torch.Size([384, 144, 2, 34])\n"
     ]
    }
   ],
   "source": [
    "import matplotlib.pyplot as plt\n",
    "import torch\n",
    "import numpy as np\n",
    "\n",
    "sample2 = torch.load(\"mri-2/fs_0001_1_5T_slice0_phase2.pt\", map_location=device)\n",
    "sample3 = torch.load(\"mri-2/us_0058_3T_slice0_phase34.pt\", map_location=device)\n",
    "# Permute to get [2, coil, kx, ky]\n",
    "# sample2 = sample2.permute(2, 3, 0, 1)\n",
    "print(sample2.shape)\n",
    "print(sample3.shape)\n",
    "\n",
    "# sample2 = sample2.reshape(-1, sample.shape[-2], sample.shape[-1])\n",
    "# sample = sample.unsqueeze(0).to(device)\n",
    "\n",
    "# kspace_complex_sample = torch.complex(kspace_reshaped_sample[:, :, 1, :, :], \n",
    "#                                       kspace_reshaped_sample[:, :, 0, :, :])  # [B, num_coils, H, W]\n",
    "\n",
    "# sample_recon = sample2[0, :, :, :]\n",
    "\n",
    "# kspace_reshaped_sample = sample_recon.view(B, num_coils, 2, H, W)\n",
    "# # Convert to a complex tensor: channel 0 is real, channel 1 is imaginary\n",
    "# kspace_complex_sample = torch.complex(kspace_reshaped_sample[:, :, 1, :, :], \n",
    "#                                       kspace_reshaped_sample[:, :, 0, :, :])  # [B, num_coils, H, W]\n",
    "\n",
    "# image =  torch.fft.ifft2(kspace_complex_sample, dim=(-2, -1),  norm='ortho') \n",
    "# coil_magnitudes = torch.abs(image)\n",
    "# reconstructed_image = torch.sqrt(torch.sum(coil_magnitudes ** 2, dim=1))  \n",
    "\n",
    "# img_min = reconstructed_image.min()\n",
    "# img_max = reconstructed_image.max()\n",
    "# reconstructed_image = (reconstructed_image - img_min) / (img_max - img_min + 1e-8)\n",
    "# # Visualize the first image in the batch\n",
    "# img_to_show = reconstructed_image[0,:,:].cpu().numpy()\n",
    "\n",
    "# print(img_to_show.shape)\n",
    "\n",
    "# plt.figure(figsize=(6, 6))\n",
    "# plt.imshow(img_to_show, cmap='gray')\n",
    "# plt.title(\"Reconstructed Image (IFFT of k-space Output) of Undersamled image \")\n",
    "# plt.axis(\"off\")\n",
    "# plt.show()"
   ]
  },
  {
   "cell_type": "code",
   "execution_count": 155,
   "id": "d634c3ef-7510-4e43-b5f5-3d2fbd661561",
   "metadata": {},
   "outputs": [
    {
     "name": "stdout",
     "output_type": "stream",
     "text": [
      "Reconstructed image shape: torch.Size([384, 144])\n"
     ]
    },
    {
     "data": {
      "image/png": "[encoded data removed]",
      "text/plain": [
       "<Figure size 432x432 with 1 Axes>"
      ]
     },
     "metadata": {
      "needs_background": "light"
     },
     "output_type": "display_data"
    }
   ],
   "source": []
  },
  {
   "cell_type": "code",
   "execution_count": 167,
   "id": "d1b6127a-7897-4994-8298-22253d955213",
   "metadata": {},
   "outputs": [
    {
     "name": "stdout",
     "output_type": "stream",
     "text": [
      "torch.Size([1, 38, 384, 144])\n",
      "[[0.06517139 0.1564632  0.06991144 ... 0.14486428 0.219672   0.21931069]\n",
      " [0.18370993 0.24711762 0.1549265  ... 0.03168272 0.3002562  0.16517042]\n",
      " [0.09071805 0.14673075 0.05728951 ... 0.01535084 0.12863222 0.12054478]\n",
      " ...\n",
      " [0.23145024 0.09034386 0.01860974 ... 0.05222274 0.04558582 0.04587964]\n",
      " [0.37712204 0.15079124 0.08623613 ... 0.13542613 0.30857906 0.30076623]\n",
      " [0.7682804  0.48130885 0.23433006 ... 0.290173   0.38330868 0.2950826 ]]\n"
     ]
    },
    {
     "data": {
      "image/png": "[encoded data removed]",
      "text/plain": [
       "<Figure size 432x432 with 1 Axes>"
      ]
     },
     "metadata": {
      "needs_background": "light"
     },
     "output_type": "display_data"
    }
   ],
   "source": [
    "import matplotlib.pyplot as plt\n",
    "import numpy as np\n",
    "\n",
    "print(kspace_complex.shape)\n",
    "img_to_show_r = kspace_complex[0,0,:,:].abs().cpu().numpy()\n",
    "print(img_to_show_r)\n",
    "plt.figure(figsize=(6, 6))\n",
    "plt.imshow(img_to_show_r, cmap='gray')\n",
    "plt.title(\"Reconstructed Image (IFFT of k-space Output) of Undersamled image \")\n",
    "plt.axis(\"off\")\n",
    "plt.show()"
   ]
  },
  {
   "cell_type": "code",
   "execution_count": 89,
   "id": "674bdefd-0260-4957-806a-3b102eda697f",
   "metadata": {},
   "outputs": [
    {
     "name": "stdout",
     "output_type": "stream",
     "text": [
      "Using device: cuda\n",
      "Loading model from: models/new_2_model.pt\n"
     ]
    },
    {
     "ename": "RuntimeError",
     "evalue": "Error(s) in loading state_dict for DDIM:\n\tsize mismatch for unet.down_blocks.0.conv.0.weight: copying a param with shape torch.Size([64, 76, 3, 3]) from checkpoint, the shape in current model is torch.Size([64, 2, 3, 3]).\n\tsize mismatch for unet.final_conv.weight: copying a param with shape torch.Size([76, 64, 1, 1]) from checkpoint, the shape in current model is torch.Size([2, 64, 1, 1]).\n\tsize mismatch for unet.final_conv.bias: copying a param with shape torch.Size([76]) from checkpoint, the shape in current model is torch.Size([2]).",
     "output_type": "error",
     "traceback": [
      "\u001b[0;31m---------------------------------------------------------------------------\u001b[0m",
      "\u001b[0;31mRuntimeError\u001b[0m                              Traceback (most recent call last)",
      "\u001b[0;32m/tmp/ipykernel_588370/789062096.py\u001b[0m in \u001b[0;36m<module>\u001b[0;34m\u001b[0m\n\u001b[1;32m    114\u001b[0m \u001b[0;32mif\u001b[0m \u001b[0m__name__\u001b[0m \u001b[0;34m==\u001b[0m \u001b[0;34m\"__main__\"\u001b[0m\u001b[0;34m:\u001b[0m\u001b[0;34m\u001b[0m\u001b[0;34m\u001b[0m\u001b[0m\n\u001b[1;32m    115\u001b[0m     \u001b[0;31m# Suppose your model is single coil, real+imag in channels=2\u001b[0m\u001b[0;34m\u001b[0m\u001b[0;34m\u001b[0m\u001b[0m\n\u001b[0;32m--> 116\u001b[0;31m     recon_image = reconstruct_mri_image_no_ifft(\n\u001b[0m\u001b[1;32m    117\u001b[0m         \u001b[0mmodel_path\u001b[0m\u001b[0;34m=\u001b[0m\u001b[0;34m\"models/new_2_model.pt\"\u001b[0m\u001b[0;34m,\u001b[0m\u001b[0;34m\u001b[0m\u001b[0;34m\u001b[0m\u001b[0m\n\u001b[1;32m    118\u001b[0m         \u001b[0msample_path\u001b[0m\u001b[0;34m=\u001b[0m\u001b[0;34m\"mri-2/us_0058_3T_slice0_phase34.pt\"\u001b[0m\u001b[0;34m,\u001b[0m\u001b[0;34m\u001b[0m\u001b[0;34m\u001b[0m\u001b[0m\n",
      "\u001b[0;32m/tmp/ipykernel_588370/789062096.py\u001b[0m in \u001b[0;36mreconstruct_mri_image_no_ifft\u001b[0;34m(model_path, sample_path, global_max_channels, features, timesteps, schedule, beta_start, beta_end, device)\u001b[0m\n\u001b[1;32m     57\u001b[0m     \u001b[0mprint\u001b[0m\u001b[0;34m(\u001b[0m\u001b[0;34mf\"Loading model from: {model_path}\"\u001b[0m\u001b[0;34m)\u001b[0m\u001b[0;34m\u001b[0m\u001b[0;34m\u001b[0m\u001b[0m\n\u001b[1;32m     58\u001b[0m     \u001b[0mstate_dict\u001b[0m \u001b[0;34m=\u001b[0m \u001b[0mtorch\u001b[0m\u001b[0;34m.\u001b[0m\u001b[0mload\u001b[0m\u001b[0;34m(\u001b[0m\u001b[0mmodel_path\u001b[0m\u001b[0;34m,\u001b[0m \u001b[0mmap_location\u001b[0m\u001b[0;34m=\u001b[0m\u001b[0mdevice\u001b[0m\u001b[0;34m)\u001b[0m\u001b[0;34m\u001b[0m\u001b[0;34m\u001b[0m\u001b[0m\n\u001b[0;32m---> 59\u001b[0;31m     \u001b[0mddim\u001b[0m\u001b[0;34m.\u001b[0m\u001b[0mload_state_dict\u001b[0m\u001b[0;34m(\u001b[0m\u001b[0mstate_dict\u001b[0m\u001b[0;34m,\u001b[0m \u001b[0mstrict\u001b[0m \u001b[0;34m=\u001b[0m\u001b[0;32mFalse\u001b[0m\u001b[0;34m)\u001b[0m\u001b[0;34m\u001b[0m\u001b[0;34m\u001b[0m\u001b[0m\n\u001b[0m\u001b[1;32m     60\u001b[0m     \u001b[0mddim\u001b[0m\u001b[0;34m.\u001b[0m\u001b[0mto\u001b[0m\u001b[0;34m(\u001b[0m\u001b[0mdevice\u001b[0m\u001b[0;34m)\u001b[0m\u001b[0;34m\u001b[0m\u001b[0;34m\u001b[0m\u001b[0m\n\u001b[1;32m     61\u001b[0m     \u001b[0mddim\u001b[0m\u001b[0;34m.\u001b[0m\u001b[0meval\u001b[0m\u001b[0;34m(\u001b[0m\u001b[0;34m)\u001b[0m\u001b[0;34m\u001b[0m\u001b[0;34m\u001b[0m\u001b[0m\n",
      "\u001b[0;32m/usr/lib/python3/dist-packages/torch/nn/modules/module.py\u001b[0m in \u001b[0;36mload_state_dict\u001b[0;34m(self, state_dict, strict, assign)\u001b[0m\n\u001b[1;32m   2579\u001b[0m \u001b[0;34m\u001b[0m\u001b[0m\n\u001b[1;32m   2580\u001b[0m         \u001b[0;32mif\u001b[0m \u001b[0mlen\u001b[0m\u001b[0;34m(\u001b[0m\u001b[0merror_msgs\u001b[0m\u001b[0;34m)\u001b[0m \u001b[0;34m>\u001b[0m \u001b[0;36m0\u001b[0m\u001b[0;34m:\u001b[0m\u001b[0;34m\u001b[0m\u001b[0;34m\u001b[0m\u001b[0m\n\u001b[0;32m-> 2581\u001b[0;31m             raise RuntimeError(\n\u001b[0m\u001b[1;32m   2582\u001b[0m                 \"Error(s) in loading state_dict for {}:\\n\\t{}\".format(\n\u001b[1;32m   2583\u001b[0m                     \u001b[0mself\u001b[0m\u001b[0;34m.\u001b[0m\u001b[0m__class__\u001b[0m\u001b[0;34m.\u001b[0m\u001b[0m__name__\u001b[0m\u001b[0;34m,\u001b[0m \u001b[0;34m\"\\n\\t\"\u001b[0m\u001b[0;34m.\u001b[0m\u001b[0mjoin\u001b[0m\u001b[0;34m(\u001b[0m\u001b[0merror_msgs\u001b[0m\u001b[0;34m)\u001b[0m\u001b[0;34m\u001b[0m\u001b[0;34m\u001b[0m\u001b[0m\n",
      "\u001b[0;31mRuntimeError\u001b[0m: Error(s) in loading state_dict for DDIM:\n\tsize mismatch for unet.down_blocks.0.conv.0.weight: copying a param with shape torch.Size([64, 76, 3, 3]) from checkpoint, the shape in current model is torch.Size([64, 2, 3, 3]).\n\tsize mismatch for unet.final_conv.weight: copying a param with shape torch.Size([76, 64, 1, 1]) from checkpoint, the shape in current model is torch.Size([2, 64, 1, 1]).\n\tsize mismatch for unet.final_conv.bias: copying a param with shape torch.Size([76]) from checkpoint, the shape in current model is torch.Size([2])."
     ]
    }
   ],
   "source": [
    "import torch\n",
    "import torch.nn as nn\n",
    "import torch.nn.functional as F\n",
    "import matplotlib.pyplot as plt\n",
    "\n",
    "def reconstruct_mri_image_no_ifft(\n",
    "    model_path=\"models/my_model.pt\",\n",
    "    sample_path=\"mri-2/my_image_domain_sample.pt\",\n",
    "    global_max_channels=76,   # single coil (real+imag) in this example\n",
    "    features=[64, 128, 256],\n",
    "    timesteps=1000,\n",
    "    schedule=\"cosine\",\n",
    "    beta_start=1e-4,\n",
    "    beta_end=0.02,\n",
    "    device=None\n",
    "    ):\n",
    "    \"\"\"\n",
    "    Loads a DDIM+UNet model that outputs image-domain data (real+imag).\n",
    "    Then loads a sample image domain tensor, runs inference, and returns\n",
    "    the final reconstruction, WITHOUT doing another iFFT.\n",
    "\n",
    "    Args:\n",
    "        model_path (str): Path to the trained model checkpoint (.pt).\n",
    "        sample_path (str): Path to an input .pt file containing [C,H,W] in image domain.\n",
    "        global_max_channels (int): 2 if single coil (real + imag).\n",
    "        features (list): U-Net feature channels.\n",
    "        timesteps (int): Diffusion steps used at training.\n",
    "        schedule (str): \"linear\" or \"cosine\" for beta schedule.\n",
    "        beta_start, beta_end: Beta range.\n",
    "        device: torch.device or None.\n",
    "\n",
    "    Returns:\n",
    "        final_image (torch.Tensor): [H, W], the magnitude of the final image in [0,1].\n",
    "    \"\"\"\n",
    "    if device is None:\n",
    "        device = torch.device(\"cuda\" if torch.cuda.is_available() else \"cpu\")\n",
    "    print(f\"Using device: {device}\")\n",
    "\n",
    "    # -------------------------------------------------------------------\n",
    "    # (A) Instantiate your model the same way as in training\n",
    "    # -------------------------------------------------------------------\n",
    "    unet = UNet(\n",
    "        in_channels=global_max_channels, \n",
    "        out_channels=global_max_channels,\n",
    "        features=features\n",
    "    )\n",
    "    ddim = DDIM(\n",
    "        unet=unet,\n",
    "        timesteps=timesteps,\n",
    "        beta_start=beta_start,\n",
    "        beta_end=beta_end,\n",
    "        schedule=schedule,\n",
    "        device=device\n",
    "    )\n",
    "\n",
    "    # Load model checkpoint\n",
    "    print(f\"Loading model from: {model_path}\")\n",
    "    state_dict = torch.load(model_path, map_location=device)\n",
    "    ddim.load_state_dict(state_dict, strict =False)\n",
    "    ddim.to(device)\n",
    "    ddim.eval()\n",
    "\n",
    "    # -------------------------------------------------------------------\n",
    "    # (B) Load a sample that is ALREADY in the image domain\n",
    "    # -------------------------------------------------------------------\n",
    "    # e.g. shape [C,H,W], where C=2 for single coil real+imag\n",
    "    sample_img = torch.load(sample_path, map_location=device)\n",
    "    print(\"Original sample shape:\", sample_img.shape)\n",
    "\n",
    "    # If needed, adjust shape to [B, C, H, W]\n",
    "    if len(sample_img.shape) == 3:\n",
    "        sample_img = sample_img.unsqueeze(0)  # add batch dimension\n",
    "    # If sample_img.shape[1] != global_max_channels, pad/crop as needed\n",
    "    C = sample_img.shape[1]\n",
    "    if C < global_max_channels:\n",
    "        pad_channels = global_max_channels - C\n",
    "        sample_img = F.pad(sample_img, (0, 0, 0, 0, 0, pad_channels))\n",
    "    elif C > global_max_channels:\n",
    "        sample_img = sample_img[:, :global_max_channels, :, :]\n",
    "\n",
    "    sample_img = sample_img.to(device)\n",
    "    print(\"Sample after shape fix:\", sample_img.shape)\n",
    "\n",
    "    # -------------------------------------------------------------------\n",
    "    # (C) Run the model to get the final image (without iFFT)\n",
    "    # -------------------------------------------------------------------\n",
    "    # For training-like forward:\n",
    "    with torch.no_grad():\n",
    "        # pick random t for demonstration\n",
    "        t = torch.randint(0, timesteps, (sample_img.size(0),), device=device).long()\n",
    "        pred_out = ddim(sample_img, t=t)\n",
    "        # shape => [B, 2, H, W] if single coil real+imag\n",
    "\n",
    "    # Now pred_out should be the final \"image\" in real+imag form\n",
    "    # (depending on how your model is structured).\n",
    "\n",
    "    # -------------------------------------------------------------------\n",
    "    # (D) Convert to magnitude (no additional iFFT!)\n",
    "    # -------------------------------------------------------------------\n",
    "    real_part = pred_out[:, 0, :, :]\n",
    "    imag_part = pred_out[:, 1, :, :]\n",
    "    magnitude = torch.sqrt(real_part**2 + imag_part**2)  # [B,H,W]\n",
    "\n",
    "    # Normalize each image in the batch\n",
    "    mag_min = magnitude.view(magnitude.size(0), -1).min(dim=1)[0].view(-1,1,1)\n",
    "    mag_max = magnitude.view(magnitude.size(0), -1).max(dim=1)[0].view(-1,1,1)\n",
    "    eps = 1e-9\n",
    "    final_image = (magnitude - mag_min) / (mag_max - mag_min + eps)\n",
    "\n",
    "    return final_image  # shape [B,H,W]\n",
    "\n",
    "if __name__ == \"__main__\":\n",
    "    # Suppose your model is single coil, real+imag in channels=2\n",
    "    recon_image = reconstruct_mri_image_no_ifft(\n",
    "        model_path=\"models/new_2_model.pt\",\n",
    "        sample_path=\"mri-2/us_0058_3T_slice0_phase34.pt\",\n",
    "        global_max_channels=2,  # single coil real+imag\n",
    "        features=[64,128,256],\n",
    "        timesteps=1000,\n",
    "        schedule=\"linear\"\n",
    "    )\n",
    "\n",
    "    print(\"Reconstructed shape:\", recon_image.shape)\n",
    "    # E.g. => [1,H,W]\n",
    "\n",
    "    # Plot the first image in the batch\n",
    "    plt.figure(figsize=(6,6))\n",
    "    plt.imshow(recon_image[0].cpu().numpy(), cmap='gray')\n",
    "    plt.title(\"Reconstructed Image (No iFFT)\")\n",
    "    plt.axis('off')\n",
    "    plt.show()\n"
   ]
  },
  {
   "cell_type": "code",
   "execution_count": null,
   "id": "ae74f661-6ad4-447d-93ef-9e593a5c5ea5",
   "metadata": {},
   "outputs": [],
   "source": []
  }
 ],
 "metadata": {
  "kernelspec": {
   "display_name": "Python 3 (ipykernel)",
   "language": "python",
   "name": "python3"
  },
  "language_info": {
   "codemirror_mode": {
    "name": "ipython",
    "version": 3
   },
   "file_extension": ".py",
   "mimetype": "text/x-python",
   "name": "python",
   "nbconvert_exporter": "python",
   "pygments_lexer": "ipython3",
   "version": "3.10.12"
  }
 },
 "nbformat": 4,
 "nbformat_minor": 5
}
